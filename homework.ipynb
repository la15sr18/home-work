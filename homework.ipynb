{
  "nbformat": 4,
  "nbformat_minor": 0,
  "metadata": {
    "colab": {
      "provenance": []
    },
    "kernelspec": {
      "name": "python3",
      "display_name": "Python 3"
    },
    "language_info": {
      "name": "python"
    }
  },
  "cells": [
    {
      "cell_type": "markdown",
      "source": [
        "Мадина Светлана Владимировна, РИ-400034"
      ],
      "metadata": {
        "id": "Ec7JDtjpKlwo"
      }
    },
    {
      "cell_type": "code",
      "source": [
        "import pandas as pd\n",
        "import numpy as np"
      ],
      "metadata": {
        "id": "FBQqxv3Gs8U4"
      },
      "execution_count": null,
      "outputs": []
    },
    {
      "cell_type": "code",
      "execution_count": null,
      "metadata": {
        "colab": {
          "base_uri": "https://localhost:8080/"
        },
        "id": "119tCTr9E01e",
        "outputId": "34e2fce1-34e5-4ca2-afca-20553b7c9975"
      },
      "outputs": [
        {
          "output_type": "stream",
          "name": "stdout",
          "text": [
            "918 µs ± 5.97 µs per loop (mean ± std. dev. of 7 runs, 1000 loops each)\n"
          ]
        }
      ],
      "source": [
        "%%timeit\n",
        "\n",
        "df_pl = pl.read_csv(\"train.csv\")"
      ]
    },
    {
      "cell_type": "code",
      "source": [
        "import polars as pl\n",
        "\n",
        "# Загрузка датасета\n",
        "df = pl.read_csv(\"train.csv\")\n",
        "\n",
        "# Вывод типов данных столбцов\n",
        "print(\"Типы данных столбцов:\")\n",
        "print(df.schema)\n",
        "\n",
        "# Вывод общей информации о датасете, включая количество пропусков\n",
        "print(\"\\nОбщая информация о датасете:\")\n",
        "print(df.describe())\n",
        "\n",
        "# Для подсчета количества пропусков в каждом столбце можно использовать следующий подход:\n",
        "missing_values = df.select([pl.col(column).is_null().sum().alias(f\"missing_{column}\") for column in df.columns])\n",
        "print(\"\\nКоличество пропусков в каждом столбце:\")\n",
        "print(missing_values)\n",
        "\n",
        "# Для получения средних значений (для числовых столбцов)\n",
        "print(\"\\nСредние значения числовых столбцов:\")\n",
        "mean_values = df.select(pl.all().exclude(pl.Boolean).mean())\n",
        "print(mean_values)\n"
      ],
      "metadata": {
        "colab": {
          "base_uri": "https://localhost:8080/"
        },
        "id": "AAqAZYOhKMz3",
        "outputId": "05106c27-1317-47a1-b5ce-64f3bf0edf57"
      },
      "execution_count": null,
      "outputs": [
        {
          "output_type": "stream",
          "name": "stdout",
          "text": [
            "Типы данных столбцов:\n",
            "OrderedDict([('PassengerId', Int64), ('Survived', Int64), ('Pclass', Int64), ('Name', Utf8), ('Sex', Utf8), ('Age', Float64), ('SibSp', Int64), ('Parch', Int64), ('Ticket', Utf8), ('Fare', Float64), ('Cabin', Utf8), ('Embarked', Utf8)])\n",
            "\n",
            "Общая информация о датасете:\n",
            "shape: (9, 13)\n",
            "┌────────────┬─────────────┬──────────┬──────────┬───┬───────────┬───────────┬───────┬──────────┐\n",
            "│ describe   ┆ PassengerId ┆ Survived ┆ Pclass   ┆ … ┆ Ticket    ┆ Fare      ┆ Cabin ┆ Embarked │\n",
            "│ ---        ┆ ---         ┆ ---      ┆ ---      ┆   ┆ ---       ┆ ---       ┆ ---   ┆ ---      │\n",
            "│ str        ┆ f64         ┆ f64      ┆ f64      ┆   ┆ str       ┆ f64       ┆ str   ┆ str      │\n",
            "╞════════════╪═════════════╪══════════╪══════════╪═══╪═══════════╪═══════════╪═══════╪══════════╡\n",
            "│ count      ┆ 891.0       ┆ 891.0    ┆ 891.0    ┆ … ┆ 891       ┆ 891.0     ┆ 204   ┆ 889      │\n",
            "│ null_count ┆ 0.0         ┆ 0.0      ┆ 0.0      ┆ … ┆ 0         ┆ 0.0       ┆ 687   ┆ 2        │\n",
            "│ mean       ┆ 446.0       ┆ 0.383838 ┆ 2.308642 ┆ … ┆ null      ┆ 32.204208 ┆ null  ┆ null     │\n",
            "│ std        ┆ 257.353842  ┆ 0.486592 ┆ 0.836071 ┆ … ┆ null      ┆ 49.693429 ┆ null  ┆ null     │\n",
            "│ min        ┆ 1.0         ┆ 0.0      ┆ 1.0      ┆ … ┆ 110152    ┆ 0.0       ┆ A10   ┆ C        │\n",
            "│ 25%        ┆ 224.0       ┆ 0.0      ┆ 2.0      ┆ … ┆ null      ┆ 7.925     ┆ null  ┆ null     │\n",
            "│ 50%        ┆ 446.0       ┆ 0.0      ┆ 3.0      ┆ … ┆ null      ┆ 14.4542   ┆ null  ┆ null     │\n",
            "│ 75%        ┆ 669.0       ┆ 1.0      ┆ 3.0      ┆ … ┆ null      ┆ 31.0      ┆ null  ┆ null     │\n",
            "│ max        ┆ 891.0       ┆ 1.0      ┆ 3.0      ┆ … ┆ WE/P 5735 ┆ 512.3292  ┆ T     ┆ S        │\n",
            "└────────────┴─────────────┴──────────┴──────────┴───┴───────────┴───────────┴───────┴──────────┘\n",
            "\n",
            "Количество пропусков в каждом столбце:\n",
            "shape: (1, 12)\n",
            "┌───────────┬───────────┬───────────┬───────────┬───┬───────────┬───────────┬───────────┬──────────┐\n",
            "│ missing_P ┆ missing_S ┆ missing_P ┆ missing_N ┆ … ┆ missing_T ┆ missing_F ┆ missing_C ┆ missing_ │\n",
            "│ assengerI ┆ urvived   ┆ class     ┆ ame       ┆   ┆ icket     ┆ are       ┆ abin      ┆ Embarked │\n",
            "│ d         ┆ ---       ┆ ---       ┆ ---       ┆   ┆ ---       ┆ ---       ┆ ---       ┆ ---      │\n",
            "│ ---       ┆ u32       ┆ u32       ┆ u32       ┆   ┆ u32       ┆ u32       ┆ u32       ┆ u32      │\n",
            "│ u32       ┆           ┆           ┆           ┆   ┆           ┆           ┆           ┆          │\n",
            "╞═══════════╪═══════════╪═══════════╪═══════════╪═══╪═══════════╪═══════════╪═══════════╪══════════╡\n",
            "│ 0         ┆ 0         ┆ 0         ┆ 0         ┆ … ┆ 0         ┆ 0         ┆ 687       ┆ 2        │\n",
            "└───────────┴───────────┴───────────┴───────────┴───┴───────────┴───────────┴───────────┴──────────┘\n",
            "\n",
            "Средние значения числовых столбцов:\n",
            "shape: (1, 12)\n",
            "┌─────────────┬──────────┬──────────┬──────┬───┬────────┬───────────┬───────┬──────────┐\n",
            "│ PassengerId ┆ Survived ┆ Pclass   ┆ Name ┆ … ┆ Ticket ┆ Fare      ┆ Cabin ┆ Embarked │\n",
            "│ ---         ┆ ---      ┆ ---      ┆ ---  ┆   ┆ ---    ┆ ---       ┆ ---   ┆ ---      │\n",
            "│ f64         ┆ f64      ┆ f64      ┆ str  ┆   ┆ str    ┆ f64       ┆ str   ┆ str      │\n",
            "╞═════════════╪══════════╪══════════╪══════╪═══╪════════╪═══════════╪═══════╪══════════╡\n",
            "│ 446.0       ┆ 0.383838 ┆ 2.308642 ┆ null ┆ … ┆ null   ┆ 32.204208 ┆ null  ┆ null     │\n",
            "└─────────────┴──────────┴──────────┴──────┴───┴────────┴───────────┴───────┴──────────┘\n"
          ]
        }
      ]
    },
    {
      "cell_type": "code",
      "source": [
        "passengers_per_class = df.groupby(\"Pclass\").agg([\n",
        "    pl.count(\"PassengerId\").alias(\"Count\")\n",
        "]).sort(\"Pclass\")\n",
        "\n",
        "print(passengers_per_class)"
      ],
      "metadata": {
        "colab": {
          "base_uri": "https://localhost:8080/"
        },
        "id": "NVXr7FziNwrt",
        "outputId": "13a46dc8-1e1b-4628-95be-f7307a7d2220"
      },
      "execution_count": null,
      "outputs": [
        {
          "output_type": "stream",
          "name": "stdout",
          "text": [
            "shape: (3, 2)\n",
            "┌────────┬───────┐\n",
            "│ Pclass ┆ Count │\n",
            "│ ---    ┆ ---   │\n",
            "│ i64    ┆ u32   │\n",
            "╞════════╪═══════╡\n",
            "│ 1      ┆ 216   │\n",
            "│ 2      ┆ 184   │\n",
            "│ 3      ┆ 491   │\n",
            "└────────┴───────┘\n"
          ]
        },
        {
          "output_type": "stream",
          "name": "stderr",
          "text": [
            "<ipython-input-16-95ca42d4fbfb>:1: DeprecationWarning: `groupby` is deprecated. It has been renamed to `group_by`.\n",
            "  passengers_per_class = df.groupby(\"Pclass\").agg([\n"
          ]
        }
      ]
    },
    {
      "cell_type": "code",
      "source": [
        "print(df.columns)"
      ],
      "metadata": {
        "colab": {
          "base_uri": "https://localhost:8080/"
        },
        "id": "BoVocdR3r--Z",
        "outputId": "96a7f799-126e-4ee1-ed1b-5a8c6ab4c364"
      },
      "execution_count": null,
      "outputs": [
        {
          "output_type": "stream",
          "name": "stdout",
          "text": [
            "['PassengerId', 'Survived', 'Pclass', 'Name', 'Sex', 'Age', 'SibSp', 'Parch', 'Ticket', 'Fare', 'Cabin', 'Embarked']\n"
          ]
        }
      ]
    },
    {
      "cell_type": "code",
      "source": [
        "# Подсчет количества выживших мужчин и женщин\n",
        "survivors_by_gender = df.filter(pl.col(\"Survived\") == 1).groupby(\"Sex\").agg([\n",
        "    pl.count(\"Survived\").alias(\"SurvivedCount\")\n",
        "])\n",
        "\n",
        "print(survivors_by_gender)"
      ],
      "metadata": {
        "colab": {
          "base_uri": "https://localhost:8080/"
        },
        "id": "jOFqT9-WsBAK",
        "outputId": "8cfcf617-03f6-4115-c792-bd808d6a8301"
      },
      "execution_count": null,
      "outputs": [
        {
          "output_type": "stream",
          "name": "stdout",
          "text": [
            "shape: (2, 2)\n",
            "┌────────┬───────────────┐\n",
            "│ Sex    ┆ SurvivedCount │\n",
            "│ ---    ┆ ---           │\n",
            "│ str    ┆ u32           │\n",
            "╞════════╪═══════════════╡\n",
            "│ male   ┆ 109           │\n",
            "│ female ┆ 233           │\n",
            "└────────┴───────────────┘\n"
          ]
        },
        {
          "output_type": "stream",
          "name": "stderr",
          "text": [
            "<ipython-input-18-c1e5c588c0d4>:2: DeprecationWarning: `groupby` is deprecated. It has been renamed to `group_by`.\n",
            "  survivors_by_gender = df.filter(pl.col(\"Survived\") == 1).groupby(\"Sex\").agg([\n"
          ]
        }
      ]
    },
    {
      "cell_type": "code",
      "source": [
        "# Фильтрация пассажиров, возраст которых больше 44 лет\n",
        "passengers_over_44 = df.filter(pl.col(\"Age\") > 44)\n",
        "\n",
        "print(passengers_over_44)"
      ],
      "metadata": {
        "colab": {
          "base_uri": "https://localhost:8080/"
        },
        "id": "MRvPF6fusFpL",
        "outputId": "1e71e62c-5cf8-41aa-dbb7-aa100295bcf9"
      },
      "execution_count": null,
      "outputs": [
        {
          "output_type": "stream",
          "name": "stdout",
          "text": [
            "shape: (115, 12)\n",
            "┌─────────────┬──────────┬────────┬──────────────────┬───┬────────────┬─────────┬───────┬──────────┐\n",
            "│ PassengerId ┆ Survived ┆ Pclass ┆ Name             ┆ … ┆ Ticket     ┆ Fare    ┆ Cabin ┆ Embarked │\n",
            "│ ---         ┆ ---      ┆ ---    ┆ ---              ┆   ┆ ---        ┆ ---     ┆ ---   ┆ ---      │\n",
            "│ i64         ┆ i64      ┆ i64    ┆ str              ┆   ┆ str        ┆ f64     ┆ str   ┆ str      │\n",
            "╞═════════════╪══════════╪════════╪══════════════════╪═══╪════════════╪═════════╪═══════╪══════════╡\n",
            "│ 7           ┆ 0        ┆ 1      ┆ McCarthy, Mr.    ┆ … ┆ 17463      ┆ 51.8625 ┆ E46   ┆ S        │\n",
            "│             ┆          ┆        ┆ Timothy J        ┆   ┆            ┆         ┆       ┆          │\n",
            "│ 12          ┆ 1        ┆ 1      ┆ Bonnell, Miss.   ┆ … ┆ 113783     ┆ 26.55   ┆ C103  ┆ S        │\n",
            "│             ┆          ┆        ┆ Elizabeth        ┆   ┆            ┆         ┆       ┆          │\n",
            "│ 16          ┆ 1        ┆ 2      ┆ Hewlett, Mrs.    ┆ … ┆ 248706     ┆ 16.0    ┆ null  ┆ S        │\n",
            "│             ┆          ┆        ┆ (Mary D          ┆   ┆            ┆         ┆       ┆          │\n",
            "│             ┆          ┆        ┆ Kingcome)        ┆   ┆            ┆         ┆       ┆          │\n",
            "│ 34          ┆ 0        ┆ 2      ┆ Wheadon, Mr.     ┆ … ┆ C.A. 24579 ┆ 10.5    ┆ null  ┆ S        │\n",
            "│             ┆          ┆        ┆ Edward H         ┆   ┆            ┆         ┆       ┆          │\n",
            "│ …           ┆ …        ┆ …      ┆ …                ┆ … ┆ …          ┆ …       ┆ …     ┆ …        │\n",
            "│ 863         ┆ 1        ┆ 1      ┆ Swift, Mrs.      ┆ … ┆ 17466      ┆ 25.9292 ┆ D17   ┆ S        │\n",
            "│             ┆          ┆        ┆ Frederick Joel   ┆   ┆            ┆         ┆       ┆          │\n",
            "│             ┆          ┆        ┆ (Marg…           ┆   ┆            ┆         ┆       ┆          │\n",
            "│ 872         ┆ 1        ┆ 1      ┆ Beckwith, Mrs.   ┆ … ┆ 11751      ┆ 52.5542 ┆ D35   ┆ S        │\n",
            "│             ┆          ┆        ┆ Richard Leonard  ┆   ┆            ┆         ┆       ┆          │\n",
            "│             ┆          ┆        ┆ (…               ┆   ┆            ┆         ┆       ┆          │\n",
            "│ 874         ┆ 0        ┆ 3      ┆ Vander Cruyssen, ┆ … ┆ 345765     ┆ 9.0     ┆ null  ┆ S        │\n",
            "│             ┆          ┆        ┆ Mr. Victor       ┆   ┆            ┆         ┆       ┆          │\n",
            "│ 880         ┆ 1        ┆ 1      ┆ Potter, Mrs.     ┆ … ┆ 11767      ┆ 83.1583 ┆ C50   ┆ C        │\n",
            "│             ┆          ┆        ┆ Thomas Jr (Lily  ┆   ┆            ┆         ┆       ┆          │\n",
            "│             ┆          ┆        ┆ Ale…             ┆   ┆            ┆         ┆       ┆          │\n",
            "└─────────────┴──────────┴────────┴──────────────────┴───┴────────────┴─────────┴───────┴──────────┘\n"
          ]
        }
      ]
    },
    {
      "cell_type": "code",
      "source": [
        "df = pd.read_csv(\"train.csv\")"
      ],
      "metadata": {
        "id": "Y_6cF9mntHmz"
      },
      "execution_count": null,
      "outputs": []
    },
    {
      "cell_type": "code",
      "source": [
        "!pip install bottleneck"
      ],
      "metadata": {
        "colab": {
          "base_uri": "https://localhost:8080/"
        },
        "id": "vFigOLfFuC1G",
        "outputId": "164c5f8f-590b-4158-81f1-4f0a75d3f174"
      },
      "execution_count": null,
      "outputs": [
        {
          "output_type": "stream",
          "name": "stdout",
          "text": [
            "Collecting bottleneck\n",
            "  Downloading Bottleneck-1.3.7-cp310-cp310-manylinux_2_5_x86_64.manylinux1_x86_64.manylinux_2_17_x86_64.manylinux2014_x86_64.whl (354 kB)\n",
            "\u001b[?25l     \u001b[90m━━━━━━━━━━━━━━━━━━━━━━━━━━━━━━━━━━━━━━━━\u001b[0m \u001b[32m0.0/354.0 kB\u001b[0m \u001b[31m?\u001b[0m eta \u001b[36m-:--:--\u001b[0m\r\u001b[2K     \u001b[91m━━━━━━━━━━━━━\u001b[0m\u001b[91m╸\u001b[0m\u001b[90m━━━━━━━━━━━━━━━━━━━━━━━━━━\u001b[0m \u001b[32m122.9/354.0 kB\u001b[0m \u001b[31m3.6 MB/s\u001b[0m eta \u001b[36m0:00:01\u001b[0m\r\u001b[2K     \u001b[90m━━━━━━━━━━━━━━━━━━━━━━━━━━━━━━━━━━━━━━━━\u001b[0m \u001b[32m354.0/354.0 kB\u001b[0m \u001b[31m5.4 MB/s\u001b[0m eta \u001b[36m0:00:00\u001b[0m\n",
            "\u001b[?25hRequirement already satisfied: numpy in /usr/local/lib/python3.10/dist-packages (from bottleneck) (1.25.2)\n",
            "Installing collected packages: bottleneck\n",
            "Successfully installed bottleneck-1.3.7\n"
          ]
        }
      ]
    },
    {
      "cell_type": "code",
      "source": [
        "import bottleneck as bn\n",
        "\n",
        "# Предполагаем, что столбец с возрастом называется 'Age'\n",
        "ages = df['Age'].values  # Получаем numpy массив значений возраста\n",
        "\n",
        "# Удаляем NaN значения для корректного расчета\n",
        "ages_nonan = ages[~pd.isnull(ages)]\n",
        "\n",
        "# Расчет среднего возраста и стандартного отклонения\n",
        "mean_age = bn.nanmean(ages_nonan)  # bn.nanmean автоматически игнорирует NaN, но мы уже очистили данные от NaN\n",
        "std_age = bn.nanstd(ages_nonan)\n",
        "\n",
        "print(f\"Средний возраст пассажиров: {mean_age}\")\n",
        "print(f\"Стандартное отклонение возраста: {std_age}\")"
      ],
      "metadata": {
        "colab": {
          "base_uri": "https://localhost:8080/"
        },
        "id": "HwZWbnFZtQ3i",
        "outputId": "cefce4fc-5722-486e-f004-f351485b7a7e"
      },
      "execution_count": null,
      "outputs": [
        {
          "output_type": "stream",
          "name": "stdout",
          "text": [
            "Средний возраст пассажиров: 29.69911764705882\n",
            "Стандартное отклонение возраста: 14.516321150817317\n"
          ]
        }
      ]
    },
    {
      "cell_type": "code",
      "source": [
        "# Расчет нового значения Fare\n",
        "df['Fare_new'] = df.apply(lambda row: row['Fare'] * 1.3 if row['Pclass'] in [1, 2] else row['Fare'] * 1.1, axis=1)\n",
        "\n",
        "print(df)"
      ],
      "metadata": {
        "colab": {
          "base_uri": "https://localhost:8080/"
        },
        "id": "4WwB9m8hxrAB",
        "outputId": "fd7568f7-403a-43ad-f5f9-b38981e81b87"
      },
      "execution_count": null,
      "outputs": [
        {
          "output_type": "stream",
          "name": "stdout",
          "text": [
            "     PassengerId  Survived  Pclass  \\\n",
            "0              1         0       3   \n",
            "1              2         1       1   \n",
            "2              3         1       3   \n",
            "3              4         1       1   \n",
            "4              5         0       3   \n",
            "..           ...       ...     ...   \n",
            "886          887         0       2   \n",
            "887          888         1       1   \n",
            "888          889         0       3   \n",
            "889          890         1       1   \n",
            "890          891         0       3   \n",
            "\n",
            "                                                  Name     Sex   Age  SibSp  \\\n",
            "0                              Braund, Mr. Owen Harris    male  22.0      1   \n",
            "1    Cumings, Mrs. John Bradley (Florence Briggs Th...  female  38.0      1   \n",
            "2                               Heikkinen, Miss. Laina  female  26.0      0   \n",
            "3         Futrelle, Mrs. Jacques Heath (Lily May Peel)  female  35.0      1   \n",
            "4                             Allen, Mr. William Henry    male  35.0      0   \n",
            "..                                                 ...     ...   ...    ...   \n",
            "886                              Montvila, Rev. Juozas    male  27.0      0   \n",
            "887                       Graham, Miss. Margaret Edith  female  19.0      0   \n",
            "888           Johnston, Miss. Catherine Helen \"Carrie\"  female   NaN      1   \n",
            "889                              Behr, Mr. Karl Howell    male  26.0      0   \n",
            "890                                Dooley, Mr. Patrick    male  32.0      0   \n",
            "\n",
            "     Parch            Ticket     Fare Cabin Embarked  Fare_new  \n",
            "0        0         A/5 21171   7.2500   NaN        S   7.97500  \n",
            "1        0          PC 17599  71.2833   C85        C  92.66829  \n",
            "2        0  STON/O2. 3101282   7.9250   NaN        S   8.71750  \n",
            "3        0            113803  53.1000  C123        S  69.03000  \n",
            "4        0            373450   8.0500   NaN        S   8.85500  \n",
            "..     ...               ...      ...   ...      ...       ...  \n",
            "886      0            211536  13.0000   NaN        S  16.90000  \n",
            "887      0            112053  30.0000   B42        S  39.00000  \n",
            "888      2        W./C. 6607  23.4500   NaN        S  25.79500  \n",
            "889      0            111369  30.0000  C148        C  39.00000  \n",
            "890      0            370376   7.7500   NaN        Q   8.52500  \n",
            "\n",
            "[891 rows x 13 columns]\n"
          ]
        }
      ]
    },
    {
      "cell_type": "code",
      "source": [
        "# Расчет нового значения Fare\n",
        "df['Fare_new'] = np.where(df['Pclass'].isin([1, 2]), df['Fare'] * 1.3, df['Fare'] * 1.1)\n",
        "\n",
        "print(df)"
      ],
      "metadata": {
        "colab": {
          "base_uri": "https://localhost:8080/"
        },
        "id": "RO1QVcsOxsV6",
        "outputId": "d715c51a-590a-4702-fe6e-b3c611b16c1f"
      },
      "execution_count": null,
      "outputs": [
        {
          "output_type": "stream",
          "name": "stdout",
          "text": [
            "     PassengerId  Survived  Pclass  \\\n",
            "0              1         0       3   \n",
            "1              2         1       1   \n",
            "2              3         1       3   \n",
            "3              4         1       1   \n",
            "4              5         0       3   \n",
            "..           ...       ...     ...   \n",
            "886          887         0       2   \n",
            "887          888         1       1   \n",
            "888          889         0       3   \n",
            "889          890         1       1   \n",
            "890          891         0       3   \n",
            "\n",
            "                                                  Name     Sex   Age  SibSp  \\\n",
            "0                              Braund, Mr. Owen Harris    male  22.0      1   \n",
            "1    Cumings, Mrs. John Bradley (Florence Briggs Th...  female  38.0      1   \n",
            "2                               Heikkinen, Miss. Laina  female  26.0      0   \n",
            "3         Futrelle, Mrs. Jacques Heath (Lily May Peel)  female  35.0      1   \n",
            "4                             Allen, Mr. William Henry    male  35.0      0   \n",
            "..                                                 ...     ...   ...    ...   \n",
            "886                              Montvila, Rev. Juozas    male  27.0      0   \n",
            "887                       Graham, Miss. Margaret Edith  female  19.0      0   \n",
            "888           Johnston, Miss. Catherine Helen \"Carrie\"  female   NaN      1   \n",
            "889                              Behr, Mr. Karl Howell    male  26.0      0   \n",
            "890                                Dooley, Mr. Patrick    male  32.0      0   \n",
            "\n",
            "     Parch            Ticket     Fare Cabin Embarked  Fare_new  \n",
            "0        0         A/5 21171   7.2500   NaN        S   7.97500  \n",
            "1        0          PC 17599  71.2833   C85        C  92.66829  \n",
            "2        0  STON/O2. 3101282   7.9250   NaN        S   8.71750  \n",
            "3        0            113803  53.1000  C123        S  69.03000  \n",
            "4        0            373450   8.0500   NaN        S   8.85500  \n",
            "..     ...               ...      ...   ...      ...       ...  \n",
            "886      0            211536  13.0000   NaN        S  16.90000  \n",
            "887      0            112053  30.0000   B42        S  39.00000  \n",
            "888      2        W./C. 6607  23.4500   NaN        S  25.79500  \n",
            "889      0            111369  30.0000  C148        C  39.00000  \n",
            "890      0            370376   7.7500   NaN        Q   8.52500  \n",
            "\n",
            "[891 rows x 13 columns]\n"
          ]
        }
      ]
    },
    {
      "cell_type": "code",
      "source": [
        "df = pd.read_csv(\"housing.csv\")\n",
        "df.info()"
      ],
      "metadata": {
        "colab": {
          "base_uri": "https://localhost:8080/"
        },
        "id": "82XNcsRkyKJT",
        "outputId": "a6a87b2b-374b-4ca5-b3be-05a40926c7d1"
      },
      "execution_count": null,
      "outputs": [
        {
          "output_type": "stream",
          "name": "stdout",
          "text": [
            "<class 'pandas.core.frame.DataFrame'>\n",
            "RangeIndex: 506 entries, 0 to 505\n",
            "Data columns (total 14 columns):\n",
            " #   Column   Non-Null Count  Dtype  \n",
            "---  ------   --------------  -----  \n",
            " 0   CRIM     506 non-null    float64\n",
            " 1   ZN       506 non-null    float64\n",
            " 2   INDUS    506 non-null    float64\n",
            " 3   CHAS     506 non-null    int64  \n",
            " 4   NOX      506 non-null    float64\n",
            " 5   RM       506 non-null    float64\n",
            " 6   AGE      506 non-null    float64\n",
            " 7   DIS      506 non-null    float64\n",
            " 8   RAD      506 non-null    int64  \n",
            " 9   TAX      506 non-null    float64\n",
            " 10  PTRATIO  506 non-null    float64\n",
            " 11  B        506 non-null    float64\n",
            " 12  LSTAT    506 non-null    float64\n",
            " 13  MEDV     506 non-null    float64\n",
            "dtypes: float64(12), int64(2)\n",
            "memory usage: 55.5 KB\n"
          ]
        }
      ]
    },
    {
      "cell_type": "markdown",
      "source": [
        "Перед изменением типов данных важно проверить наличие пропущенных значений (NaN), так как преобразование в целочисленные типы (int) невозможно, если столбец содержит NaN.\n",
        "\n",
        "Большинство столбцов имеют тип данных float64. Если точность float64 не критична для анализа, можно рассмотреть уменьшение до float32, что сократит потребление памяти вдвое.\n",
        "\n",
        "Данные столбцы могут быть преобразованы в float32, если потеря точности в последних знаках не существенна.\n",
        "\n",
        "Для столбцов с типом данных int64, который занимает 8 байт на значение, можно рассмотреть преобразование в типы с меньшим размером (int32, int16 или даже int8), основываясь на максимальном и минимальном значениях данных в этих столбцах.\n",
        "\n",
        "CHAS, RAD: Эти столбцы, содержат ограниченный набор уникальных значений. Например, CHAS может быть индикатором (0 или 1), и его можно преобразовать в int8. RAD также можно уменьшить до int8 или int16.\n",
        "\n",
        "Рекомендации:\n",
        "CRIM, ZN, INDUS, NOX, RM, AGE, DIS, TAX, PTRATIO, B, LSTAT, MEDV: преобразование в float32.\n",
        "CHAS: если это поле принимает только два значения, например, 0 и 1, его можно преобразовать в int8.\n",
        "RAD: нужно проверить диапазон значений, но, скорее всего, его можно безопасно преобразовать в int16 или даже int8, если диапазон позволяет."
      ],
      "metadata": {
        "id": "QDZRjLZtA1jE"
      }
    },
    {
      "cell_type": "code",
      "source": [
        "missing_values = df.isnull().sum()\n",
        "\n",
        "print(missing_values)"
      ],
      "metadata": {
        "colab": {
          "base_uri": "https://localhost:8080/"
        },
        "id": "DecQdxR7Bpj4",
        "outputId": "69e2a043-3acc-480a-d95c-35502c84bba0"
      },
      "execution_count": null,
      "outputs": [
        {
          "output_type": "stream",
          "name": "stdout",
          "text": [
            "CRIM       0\n",
            "ZN         0\n",
            "INDUS      0\n",
            "CHAS       0\n",
            "NOX        0\n",
            "RM         0\n",
            "AGE        0\n",
            "DIS        0\n",
            "RAD        0\n",
            "TAX        0\n",
            "PTRATIO    0\n",
            "B          0\n",
            "LSTAT      0\n",
            "MEDV       0\n",
            "dtype: int64\n"
          ]
        }
      ]
    },
    {
      "cell_type": "code",
      "source": [
        "has_missing_values = df.isnull().any().any()\n",
        "\n",
        "print(has_missing_values)"
      ],
      "metadata": {
        "colab": {
          "base_uri": "https://localhost:8080/"
        },
        "id": "bVe3A8aCBvf9",
        "outputId": "e069f95c-7c2f-48cd-b275-72441ef741b6"
      },
      "execution_count": null,
      "outputs": [
        {
          "output_type": "stream",
          "name": "stdout",
          "text": [
            "False\n"
          ]
        }
      ]
    },
    {
      "cell_type": "code",
      "source": [
        "df = df.astype({\n",
        "    'CRIM': 'float32',\n",
        "    'ZN': 'float32',\n",
        "    'INDUS': 'float32',\n",
        "    'NOX': 'float32',\n",
        "    'RM': 'float32',\n",
        "    'AGE': 'float32',\n",
        "    'DIS': 'float32',\n",
        "    'TAX': 'float32',\n",
        "    'PTRATIO': 'float32',\n",
        "    'B': 'float32',\n",
        "    'LSTAT': 'float32',\n",
        "    'MEDV': 'float32',\n",
        "    'CHAS': 'int8',\n",
        "    'RAD': 'int16'\n",
        "})"
      ],
      "metadata": {
        "id": "ppS98kzBAuft"
      },
      "execution_count": null,
      "outputs": []
    },
    {
      "cell_type": "code",
      "source": [
        "df.info(memory_usage='deep')"
      ],
      "metadata": {
        "colab": {
          "base_uri": "https://localhost:8080/"
        },
        "id": "tWu1sFyBAwpI",
        "outputId": "68b1165d-607c-4330-b7d8-806efaa98680"
      },
      "execution_count": null,
      "outputs": [
        {
          "output_type": "stream",
          "name": "stdout",
          "text": [
            "<class 'pandas.core.frame.DataFrame'>\n",
            "RangeIndex: 506 entries, 0 to 505\n",
            "Data columns (total 14 columns):\n",
            " #   Column   Non-Null Count  Dtype  \n",
            "---  ------   --------------  -----  \n",
            " 0   CRIM     506 non-null    float32\n",
            " 1   ZN       506 non-null    float32\n",
            " 2   INDUS    506 non-null    float32\n",
            " 3   CHAS     506 non-null    int8   \n",
            " 4   NOX      506 non-null    float32\n",
            " 5   RM       506 non-null    float32\n",
            " 6   AGE      506 non-null    float32\n",
            " 7   DIS      506 non-null    float32\n",
            " 8   RAD      506 non-null    int16  \n",
            " 9   TAX      506 non-null    float32\n",
            " 10  PTRATIO  506 non-null    float32\n",
            " 11  B        506 non-null    float32\n",
            " 12  LSTAT    506 non-null    float32\n",
            " 13  MEDV     506 non-null    float32\n",
            "dtypes: float32(12), int16(1), int8(1)\n",
            "memory usage: 25.3 KB\n"
          ]
        }
      ]
    }
  ]
}